{
 "cells": [
  {
   "cell_type": "code",
   "execution_count": 2,
   "id": "f3178313-750c-4443-bf39-af41334364d0",
   "metadata": {},
   "outputs": [],
   "source": [
    "import nilearn"
   ]
  },
  {
   "cell_type": "code",
   "execution_count": 3,
   "id": "a005c00f-ede7-41c0-b70a-e2348e4bd03b",
   "metadata": {},
   "outputs": [],
   "source": [
    "from pprint import pprint"
   ]
  },
  {
   "cell_type": "code",
   "execution_count": 4,
   "id": "6fd5bed9-1cce-4c34-9794-dddcd253e633",
   "metadata": {},
   "outputs": [],
   "source": [
    "from nilearn import plotting, image, masking"
   ]
  },
  {
   "cell_type": "code",
   "execution_count": 7,
   "id": "269b62a6-7144-4e7f-b652-dcc07ad501a7",
   "metadata": {},
   "outputs": [],
   "source": [
    "# display = plotting.plot_stat_map(tsnr_func_smooth, bg_img=anat_img, threshold=150)"
   ]
  },
  {
   "cell_type": "code",
   "execution_count": 8,
   "id": "c8bf3064-0722-4641-af71-2bbe859999ce",
   "metadata": {},
   "outputs": [],
   "source": [
    "import os\n",
    "import pickle\n",
    "import numpy as np\n",
    "import pandas as pd"
   ]
  },
  {
   "cell_type": "code",
   "execution_count": 23,
   "id": "076f41f7-94c9-44c2-bbcb-1da3c99f0a8d",
   "metadata": {},
   "outputs": [],
   "source": [
    "import nibabel as nib\n",
    "import seaborn as sns\n",
    "import matplotlib.pyplot as plt"
   ]
  },
  {
   "cell_type": "code",
   "execution_count": null,
   "id": "24c16b69-bf9d-461b-85ae-82b6f45c66ef",
   "metadata": {},
   "outputs": [],
   "source": [
    "## Data version:\n",
    "\n",
    "space       = [\"MNI\", \"T1\"][1]\n",
    "mni         = \"MNI152NLin2009cAsym\"\n",
    "space_desc  = {\"MNI\": mni, \"T1\": \"T1w\"}[space]\n",
    "mni_append  = {\"MNI\": f\"_space-{mni}\", \"T1\": \"\"}[space]\n",
    "\n",
    "afni_ver    = 'runs_v7.5'\n",
    "reml        = ['', '_REML'][0]\n",
    "estm        = [f'Betas{reml}', f'Tstats{reml}'][0]\n",
    "lss         = ['LSS.', ''][0]\n",
    "trial_wise  = True\n",
    "\n",
    "if trial_wise:\n",
    "    stats_fn = f\"{lss}all-stim_all{estm}.nii\"\n",
    "    attr_fn  = f'{lss}all-stim_attrs.txt'\n",
    "else:\n",
    "    stats_fn    = f'all{estm}.nii'\n",
    "    attr_fn     = 'Attrs.txt'"
   ]
  },
  {
   "cell_type": "code",
   "execution_count": 14,
   "id": "639a39fb-5c5f-4cab-8811-547269d16fe4",
   "metadata": {},
   "outputs": [],
   "source": [
    "run = \"02\"\n",
    "\n",
    "subj        = \"sub-02\"\n",
    "sidx        = int(subj.replace(\"sub-\", \"\"))\n",
    "subj_nifti  = [\"Nifti\", \"Nifti_slow\"][int(sidx>100)]\n",
    "subj_task   = [\"vsl\", \"slowVSL\"][int(sidx>100)]\n",
    "\n",
    "top_dir     = os.path.join(\"/media\", \"data2\", \"pinwei\", \"SL_hippocampus\", subj_nifti)\n",
    "prep_top    = os.path.join(top_dir, \"derivatives\", \"fmriprep_fmap_RL\")\n",
    "afni_top    = os.path.join(top_dir, \"derivatives\", \"afni_out\")\n",
    "\n",
    "anat_dir    = os.path.join(prep_top, subj, \"anat\")\n",
    "roimask_dir = os.path.join(anat_dir, \"ROImasks\")\n",
    "func_dir    = os.path.join(prep_top, subj, \"func\", f\"{space}_space\")\n",
    "stats_dir   = os.path.join(afni_top, f\"SS_results_{afni_ver}\", f\"{subj}_r{run}.results\")\n",
    "\n",
    "anat_file   = os.path.join(anat_dir, f\"{subj}{mni_append}_desc-preproc_T1w.nii.gz\")\n",
    "brain_mask  = anat_file.replace(\"preproc_T1w\", \"brain_mask\")\n",
    "bold_file   = os.path.join(func_dir, f\"{subj}_task-{subj_task}_run-{run}_space-{space_desc}_desc-preproc_bold.nii.gz\")\n",
    "stats_file  = os.path.join(stats_dir, stats_fn)\n",
    "attr_file   = os.path.join(stats_dir, attr_fn)"
   ]
  },
  {
   "cell_type": "code",
   "execution_count": 42,
   "id": "b2942306-4da9-44cf-ba20-57feda9784af",
   "metadata": {},
   "outputs": [],
   "source": [
    "stim_type, stim_list = [\n",
    "    (\"tpl_orig\", [\"A1\",\"A2\",\"A3\",\"B1\",\"B2\",\"B3\",\"C1\",\"C2\",\"C3\",\"D1\",\"D2\",\"D3\"]),\n",
    "    (\"tpl_sorted\", [\"A-1\",\"A-2\",\"A-3\",\"B-1\",\"B-2\",\"B-3\",\"C-1\",\"C-2\",\"C-3\",\"D-1\",\"D-2\",\"D-3\"]),\n",
    "    (\"triplets\", [\"A\", \"B\", \"C\", \"D\"])\n",
    "    # (\"shape_png\", [ \"{:02d}\".format(x) for x in range(1, 13) ])\n",
    "][0]"
   ]
  },
  {
   "cell_type": "code",
   "execution_count": 36,
   "id": "c549012f-d16b-45eb-affb-f1bc68824ffa",
   "metadata": {},
   "outputs": [],
   "source": [
    "stim_labels = pd.read_csv(attr_file, sep = \"\\t\", header = None)[0].to_list()"
   ]
  },
  {
   "cell_type": "code",
   "execution_count": 20,
   "id": "618be621-5242-453e-9a32-3195d510d37d",
   "metadata": {},
   "outputs": [],
   "source": [
    "roi      = \"Hippocampus\"\n",
    "roi_mask = os.path.join(roimask_dir, f\"roimask_space-{space_desc}_{roi}_resam.nii.gz\")\n",
    "roimask  = image.load_img(roi_mask)"
   ]
  },
  {
   "cell_type": "code",
   "execution_count": 15,
   "id": "072063d3-edf9-4658-99cd-999150fc9220",
   "metadata": {},
   "outputs": [],
   "source": [
    "anat_img  = image.load_img(anat_file)\n",
    "brainmask = image.load_img(brain_mask)\n",
    "roimask   = image.load_img(roi_mask)\n",
    "bold_img  = image.load_img(bold_file)\n",
    "stats_img = image.load_img(stats_file)"
   ]
  },
  {
   "cell_type": "code",
   "execution_count": 26,
   "id": "c8ded054-a5f4-4783-bd4c-0187facc39f2",
   "metadata": {},
   "outputs": [
    {
     "name": "stdout",
     "output_type": "stream",
     "text": [
      "anat image:   (192, 256, 256)\n",
      "bold image:   (65, 57, 62, 115)\n",
      "stats image:  (65, 57, 62, 65)\n",
      "brain mask:   (192, 256, 256)\n",
      "roi mask:     (65, 57, 62)\n"
     ]
    }
   ],
   "source": [
    "print(\"anat file:  \", anat_img.shape) \n",
    "# print(\"brain mask: \", brainmask.shape) \n",
    "print(\"roi mask:   \", roimask.shape) \n",
    "print(\"bold file:  \", bold_img.shape) \n",
    "print(\"stats file: \", stats_img.shape) "
   ]
  },
  {
   "cell_type": "code",
   "execution_count": 46,
   "id": "76f26be2-fc1c-4e2c-97a5-93258461951e",
   "metadata": {},
   "outputs": [
    {
     "name": "stdout",
     "output_type": "stream",
     "text": [
      "Shape of masked dataset: (65, 355)\n"
     ]
    }
   ],
   "source": [
    "masked_stats = masking.apply_mask(stats_img, roimask)\n",
    "print(\"Shape of masked dataset:\", masked_stats.shape)"
   ]
  },
  {
   "cell_type": "code",
   "execution_count": 45,
   "id": "f0f639f8-c1f8-4a45-8348-f6b8314cdf26",
   "metadata": {},
   "outputs": [],
   "source": [
    "stim_select = stim_list[0]\n",
    "stim_select_indices = [ lab == stim_select for lab in stim_labels ]"
   ]
  },
  {
   "cell_type": "code",
   "execution_count": 47,
   "id": "a521b479-f42e-4f17-9ef4-141756d2f340",
   "metadata": {},
   "outputs": [],
   "source": [
    "selected_masked_stats = masked_stats[stim_select_indices]"
   ]
  },
  {
   "cell_type": "code",
   "execution_count": 59,
   "id": "e311cc76-c1f9-4584-af78-576aa0a6d71f",
   "metadata": {},
   "outputs": [
    {
     "data": {
      "image/png": "[encoded data removed]",
      "text/plain": [
       "<Figure size 1500x100 with 1 Axes>"
      ]
     },
     "metadata": {},
     "output_type": "display_data"
    }
   ],
   "source": [
    "plt.figure(figsize=(15, 1))\n",
    "plt.imshow(selected_masked_stats, aspect='auto')\n",
    "plt.xlabel(f\"{selected_masked_stats.shape[1]} voxels\", fontsize=16)\n",
    "plt.ylabel(f\"{selected_masked_stats.shape[0]} trials\", fontsize=16)\n",
    "plt.title(f\"shape {stim_select}\", fontsize=20)\n",
    "# plt.colorbar()\n",
    "plt.show()"
   ]
  },
  {
   "cell_type": "code",
   "execution_count": null,
   "id": "b9445546-61ef-4bf3-b69b-2aaba8bcc2a5",
   "metadata": {},
   "outputs": [],
   "source": [
    "# square root of inv = ^(-1/2)\n",
    "from scipy.linalg import sqrtm\n",
    "D = sqrtm(np.linalg.inv(noise_cov))"
   ]
  }
 ],
 "metadata": {
  "kernelspec": {
   "display_name": "Python 3.10",
   "language": "python",
   "name": "nilearn"
  },
  "language_info": {
   "codemirror_mode": {
    "name": "ipython",
    "version": 3
   },
   "file_extension": ".py",
   "mimetype": "text/x-python",
   "name": "python",
   "nbconvert_exporter": "python",
   "pygments_lexer": "ipython3",
   "version": "3.10.12"
  },
  "widgets": {
   "application/vnd.jupyter.widget-state+json": {
    "state": {},
    "version_major": 2,
    "version_minor": 0
   }
  }
 },
 "nbformat": 4,
 "nbformat_minor": 5
}
