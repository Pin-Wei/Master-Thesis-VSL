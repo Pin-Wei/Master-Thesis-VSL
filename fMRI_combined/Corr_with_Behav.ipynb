{
 "cells": [
  {
   "cell_type": "code",
   "execution_count": 1,
   "metadata": {},
   "outputs": [],
   "source": [
    "import os, copy\n",
    "import numpy as np\n",
    "import pandas as pd\n",
    "import matplotlib as mpl\n",
    "import matplotlib.pyplot as plt\n",
    "import seaborn as sns\n",
    "from scipy import stats"
   ]
  },
  {
   "cell_type": "code",
   "execution_count": 2,
   "metadata": {},
   "outputs": [],
   "source": [
    "from matplotlib.colors import LogNorm"
   ]
  },
  {
   "cell_type": "code",
   "execution_count": 3,
   "metadata": {},
   "outputs": [],
   "source": [
    "def plot_corr(df, X, Y, x_name=None, y_name=None, fig_title=None, out_path=None, fig_size=(5, 5), \n",
    "              x_lim=None, y_lim=None, text_y_pos1=None, text_y_pos2=None):\n",
    "    \n",
    "    plt.figure(figsize=fig_size, dpi=500)\n",
    "    sns.set(style=\"whitegrid\", font_scale=1.2)\n",
    "    ax = sns.JointGrid(data=df, x=df[X].to_numpy(), y=df[Y].to_numpy(),\n",
    "                       xlim=x_lim, ylim=y_lim, height=5, ratio=3)\n",
    "    ax = ax.plot_joint(sns.regplot, x_jitter=False, y_jitter=False, \n",
    "                       scatter_kws={\"alpha\": 0.5, \"edgecolor\": \"white\"}, \n",
    "                       line_kws={\"linewidth\": 1})\n",
    "    ax = ax.plot_marginals(sns.histplot, kde=True, linewidth=1)\n",
    "    \n",
    "    x_thres = 21.33 if X == \"Score\" else 0\n",
    "    ax.refline(x=x_thres, color=\"r\", alpha=.7)\n",
    "    ax.ax_joint.text(x=23, y=max(df[Y])*1.1, \n",
    "                     s=\"threshold\", color=\"r\", fontstyle=\"italic\", size=10)\n",
    "    ax.refline(y=0, color=\"r\", alpha=.7)\n",
    "    \n",
    "    ax.refline(y=np.mean(df[Y]), color=\"g\")\n",
    "    ax.ax_joint.text(x=3, y=np.mean(df[Y])*1.1, \n",
    "                     s=\"mean\", color=\"g\", fontstyle=\"italic\", size=10)\n",
    "    \n",
    "    r, p = stats.pearsonr(df[X], df[Y], alternative=\"two-sided\")\n",
    "    \n",
    "    p_txt = \"p < .001\" if p < .001 else \"p = \"+\"{:.3f}\".format(p).lstrip(\"0\")\n",
    "    p_color = \"r\" if p < .05 else \"k\"\n",
    "    p_fw = \"bold\" if p < .05 else \"normal\"\n",
    "    \n",
    "    text_y_pos1 = min(df[Y]) if text_y_pos1 == None else text_y_pos1\n",
    "    ax.ax_joint.text(x=3, y=text_y_pos1, \n",
    "                     s=\"r = {:.2f}, {:}\".format(r, p_txt), \n",
    "                     fontstyle=\"italic\", color=p_color, fontweight=p_fw)\n",
    "    N = len(df)\n",
    "    text_y_pos2 = max(df[Y]) if text_y_pos2 == None else text_y_pos2\n",
    "    ax.ax_joint.text(x=45, y=text_y_pos2, \n",
    "                     s=f\"N = {N}\", color=\"gray\", fontstyle=\"italic\", size=12)\n",
    "    \n",
    "    ax.set_axis_labels(xlabel=x_name, ylabel=y_name, size=12)\n",
    "    plt.tight_layout()\n",
    "    \n",
    "    if fig_title != None:\n",
    "        plt.suptitle(fig_title, fontsize=14, x=.85, y=.85)\n",
    "        # plt.title(fig_title, fontsize=20)\n",
    "    \n",
    "    if out_path is not None:\n",
    "        plt.savefig(out_path, format=\"png\", dpi=500)\n",
    "        plt.close()\n",
    "        plt.clf()\n",
    "    \n",
    "    return r, p"
   ]
  },
  {
   "cell_type": "code",
   "execution_count": 4,
   "metadata": {},
   "outputs": [],
   "source": [
    "def plot_heatmap(mat, x_labs, y_labs, fig_title=None, out_path=None, fig_size=(10, 20), \n",
    "                 cmap=[\"coolwarm\", \"Spectral_r\"][0], cmin=-1, cmax=1, cbar_title=None,\n",
    "                 norm=None, show_value=True, fmt=\".3f\"):\n",
    "        \n",
    "    plt.figure(figsize=fig_size, dpi=500)\n",
    "    sns.set(style=\"white\", font_scale=1.2)\n",
    "    ax = sns.heatmap(mat, # square=True, \n",
    "                     annot=show_value, fmt=fmt, linewidth=.5, \n",
    "                     cmap=cmap, vmin=cmin, vmax=cmax, norm=norm, \n",
    "                     cbar_kws={\"shrink\": 0.5, 'label': cbar_title})\n",
    "    \n",
    "#     ax.xaxis.set_major_locator(mpl.ticker.FixedLocator(np.arange(0, len(x_labs))))\n",
    "#     ax.yaxis.set_major_locator(mpl.ticker.FixedLocator(np.arange(0, len(y_labs))))\n",
    "#     ax.set_xticklabels(x_labs, rotation=90, fontsize=20)\n",
    "    ax.set_xticklabels(x_labs, rotation=0, fontsize=20)\n",
    "    ax.set_yticklabels(y_labs, rotation=0, fontsize=20)\n",
    "    plt.tight_layout()\n",
    "    \n",
    "    if fig_title != None:\n",
    "        # ax.set_title(fig_title, fontsize=20)\n",
    "        plt.suptitle(fig_title, fontsize=20, x=.95, y=.95, horizontalalignment=\"right\")\n",
    "    \n",
    "    if out_path is not None:\n",
    "        plt.savefig(out_path, format=\"png\")\n",
    "        plt.close()\n",
    "        plt.clf()"
   ]
  },
  {
   "cell_type": "code",
   "execution_count": 5,
   "metadata": {},
   "outputs": [],
   "source": [
    "def remove_outlier_indices(df, col):\n",
    "    Q1 = df[col].quantile(0.25)\n",
    "    Q3 = df[col].quantile(0.75)\n",
    "    IQR = Q3 - Q1\n",
    "    not_outliers = ~ ((df[col] < (Q1 - 1.5 * IQR)) | (df[col] > (Q3 + 1.5 * IQR)))\n",
    "    \n",
    "    return not_outliers"
   ]
  },
  {
   "cell_type": "markdown",
   "metadata": {},
   "source": [
    "# Correlation plots"
   ]
  },
  {
   "cell_type": "code",
   "execution_count": 6,
   "metadata": {},
   "outputs": [],
   "source": [
    "TO_DO = {\n",
    "    1: \"PyMVPA\", \n",
    "    2: \"UnivariateActivity\",\n",
    "    3: \"both\"\n",
    "}[2]\n",
    "\n",
    "ap_UniV = \"runs_MNI_3ord_v6_REML\"\n",
    "\n",
    "ap_MVPA = \"ap-runs_v5\"\n",
    "\n",
    "MVPA_stim_type = [\"tpl_sorted\", \"triplets\"][1]\n",
    "MVPA_run_groupby = [\"each\", \"binded\"][1]"
   ]
  },
  {
   "cell_type": "code",
   "execution_count": 7,
   "metadata": {},
   "outputs": [],
   "source": [
    "top_dir = \".\" \n",
    "behav_dir = os.path.join(top_dir, \"Familiarity_test_performance\")\n",
    "\n",
    "behav_fn = \"subj_score_LN.tsv\" \n",
    "behav_table = pd.read_csv(os.path.join(behav_dir, behav_fn), sep=\"\\t\", header=0)"
   ]
  },
  {
   "cell_type": "code",
   "execution_count": 8,
   "metadata": {},
   "outputs": [],
   "source": [
    "learner_only = 0\n",
    "threshold = [27, 21.33][0]\n",
    "\n",
    "remove_outlier = 0\n",
    "\n",
    "gfunc = [\"\", \"_gfunc\"][0]\n",
    "\n",
    "roi_list = [\n",
    "    \"Pre_Central\",                                                                          # Frontal \n",
    "    \"Inf_Pari\", \"Para_Central\", \"Post_Central\", \"Pre_Cuneus\", \"Sup_Pari\", \"Supra_Marginal\", # Parietal\n",
    "    \"Isth_Cingulate\", \"Insula\", \"Post_Cingulate\",                                           # Limbic\n",
    "    \"Caudate\", \"Putamen\",                                                                   # Striatum\n",
    "    \"Hipp-Sub\", \"Hipp-CA1\", \"Hipp-CA2+3\", \"Hipp-DG+CA4\", \"Hippocampus\",                     # Hippocampus\n",
    "    \"PHC\", \"PRC\", \"ERC\", \"MTL\",                                                             # MTL\n",
    "    \"Inf_Temp\", \"Mid_Temp\", \"Sup_Temp\", \"Trans_Temp\",                                       # Temporal\n",
    "    \"Peri_Calcarine\", \"Fusiform\", \"Cuneus\", \"High-Vis\", \"V3\", \"V2\", \"V1\", \"Lingual\",        # Occipital   \n",
    "    \"CBM\"\n",
    "]\n",
    "\n",
    "FIG_HIGHT = 12\n",
    "FIG_WIDTH = 12 "
   ]
  },
  {
   "cell_type": "code",
   "execution_count": 9,
   "metadata": {},
   "outputs": [],
   "source": [
    "roi_list = [\n",
    "    \"lh-PHC\", \"rh-PHC\", \"lh-PRC\", \"rh-PRC\", \"lh-ERC\", \"rh-ERC\", \n",
    "    \"lh-Hipp-CA1\", \"rh-Hipp-CA1\", \"lh-Hipp-CA2+3\", \"rh-Hipp-CA2+3\", \n",
    "    \"lh-Hipp-DG+CA4\", \"rh-Hipp-DG+CA4\", \"lh-Hipp-Sub\", \"rh-Hipp-Sub\", \n",
    "    \"lh-Caudate\", \"rh-Caudate\", \"lh-Putamen\", \"rh-Putamen\"\n",
    "]"
   ]
  },
  {
   "cell_type": "markdown",
   "metadata": {},
   "source": [
    "### Setup and load dataframe:"
   ]
  },
  {
   "cell_type": "code",
   "execution_count": 10,
   "metadata": {},
   "outputs": [],
   "source": [
    "if (TO_DO == \"PyMVPA\") or (TO_DO == \"both\"):\n",
    "    \n",
    "    data_dir = os.path.join(top_dir, \"PyMVPA\", \"odd_even_trials_similarity\", ap_MVPA)           ###\n",
    "    out_top = os.path.join(data_dir, \"Corr_with_behav\", f\"{MVPA_stim_type}_{MVPA_run_groupby}\") ###\n",
    "\n",
    "    data_fn = f\"allROI_allRlist_allCond_allSubj_{MVPA_stim_type}_{MVPA_run_groupby}.csv\"        ###\n",
    "    \n",
    "    data_table = pd.read_csv(os.path.join(data_dir, data_fn), sep=\",\", header=0)\n",
    "    data_table.rename(columns = {\"Runs\": \"Run\"})\n",
    "#     data_table = data_table.replace(\"All\", \"1+2+3\")\n",
    "    \n",
    "    qV, fig_y_name, fig_y_lim = \"Similarity\", \"Pattern Similarity\", (-1, 1)\n",
    "    qV_2, fig_x_name, fig_x_lim = \"Score\", \"Familiarity score\", (0, 60)"
   ]
  },
  {
   "cell_type": "code",
   "execution_count": 11,
   "metadata": {},
   "outputs": [],
   "source": [
    "if TO_DO == \"both\":\n",
    "    \n",
    "    data_table_2 = copy.deepcopy(data_table)"
   ]
  },
  {
   "cell_type": "code",
   "execution_count": 12,
   "metadata": {},
   "outputs": [],
   "source": [
    "if (TO_DO == \"UnivariateActivity\") or (TO_DO == \"both\"):\n",
    "\n",
    "    data_dir = os.path.join(top_dir, f\"ROIstats{gfunc}\", ap_UniV)                  ###\n",
    "    folder = \"Corr_with_behav (gfunc)\" if gfunc == \"_gfunc\" else \"Corr_with_behav\" ###\n",
    "    out_top = os.path.join(top_dir, \"ROI_analysis\", ap_UniV, folder) \n",
    "    \n",
    "    data_fn = \"maskave.all_ROI_Run_Cond.csv\"                                       ###\n",
    "    \n",
    "    data_table = pd.read_csv(os.path.join(data_dir, data_fn), sep=\",\", header=0)\n",
    "    data_table[\"Run\"] = data_table[\"Run\"].map(lambda x: \"run-{:02}\".format(x))\n",
    "    data_table[\"Y\"] = data_table[\"Y\"] *100\n",
    "    \n",
    "#     data_table = data_table.replace(\"1+2+3\", \"All\")\n",
    "#     data_table = data_table.replace(\"any.stim\", \"All\")\n",
    "\n",
    "    cond_list =  [\"Fst\", \"Snd\", \"Trd\"]\n",
    "    data_table = data_table.query(\"Cond in @cond_list\")\n",
    "    \n",
    "    qV, fig_y_name, fig_y_lim = \"Y\", \"Intensity (×100)\", None\n",
    "    qV_2, fig_x_name, fig_x_lim = \"Score\", \"Familiarity score\", (0, 60)"
   ]
  },
  {
   "cell_type": "code",
   "execution_count": 13,
   "metadata": {},
   "outputs": [],
   "source": [
    "if TO_DO == \"both\":\n",
    "    \n",
    "    out_top = os.path.join(top_dir, \"Intensity_x_Stability\") ###\n",
    "    \n",
    "    data_table = data_table.merge(data_table_2, on=[\"Subj\", \"ROI\", \"Run\", \"Cond\"])\n",
    "    \n",
    "    qV, fig_y_name, fig_y_lim = \"Y\", \"Intensity (×100)\", None\n",
    "    qV_2, fig_x_name, fig_x_lim = \"Similarity\", \"Pattern similarity\", None"
   ]
  },
  {
   "cell_type": "code",
   "execution_count": 14,
   "metadata": {},
   "outputs": [],
   "source": [
    "data_table = data_table.merge(behav_table, how=\"left\", on=\"Subj\")\n",
    "data_table[\"Score\"] = data_table[\"Score\"] *60\n",
    "\n",
    "cond_list = list(set(data_table[\"Cond\"]))\n",
    "run_list = sorted(list(set(data_table[\"Run\"])))\n",
    "\n",
    "out_dir = os.path.join(out_top, f\"{len(roi_list)}_ROIs\")\n",
    "\n",
    "if learner_only: \n",
    "    out_dir = out_dir + \" (learner_only)\"\n",
    "\n",
    "if not os.path.exists(out_dir):\n",
    "    os.makedirs(out_dir)"
   ]
  },
  {
   "cell_type": "code",
   "execution_count": 15,
   "metadata": {},
   "outputs": [
    {
     "data": {
      "text/plain": [
       "['Subj', 'Y', 'ROI', 'Run', 'Cond', 'Design', 'Score', 'Group']"
      ]
     },
     "execution_count": 15,
     "metadata": {},
     "output_type": "execute_result"
    }
   ],
   "source": [
    "list(data_table.columns)"
   ]
  },
  {
   "cell_type": "code",
   "execution_count": 16,
   "metadata": {},
   "outputs": [],
   "source": [
    "# data_table.query('ROI == @roi_list[14] & Cond == @cond & Run == @run').head()"
   ]
  },
  {
   "cell_type": "code",
   "execution_count": 17,
   "metadata": {},
   "outputs": [],
   "source": [
    "# roi_list.index('lh-Caudate')"
   ]
  },
  {
   "cell_type": "markdown",
   "metadata": {},
   "source": [
    "## Correlation: compute (main) and plot (optional)"
   ]
  },
  {
   "cell_type": "code",
   "execution_count": 18,
   "metadata": {},
   "outputs": [],
   "source": [
    "## Jointed regression + histogram plots\n",
    "\n",
    "PLOT_ME = 0 \n",
    "\n",
    "for cond in cond_list:\n",
    "    corr_R, corr_pval = {}, {}\n",
    "\n",
    "    for run in run_list:\n",
    "        corr_R[run], corr_pval[run] = {}, {} \n",
    "\n",
    "        for roi in roi_list:\n",
    "            # print(roi)\n",
    "            sub_df = data_table.query('ROI == @roi & Cond == @cond & Run == @run')\n",
    "            \n",
    "            if learner_only:\n",
    "                sub_df = sub_df.query(('Score > @threshold'))\n",
    "                \n",
    "            if remove_outlier:\n",
    "                sub_df = sub_df[remove_outlier_indices(sub_df, qV)]\n",
    "                sub_df = sub_df[remove_outlier_indices(sub_df, qV_2)]\n",
    "                \n",
    "                out_dir = out_dir + \" (outlier removed)\"\n",
    "                if not os.path.exists(out_dir):\n",
    "                    os.makedirs(out_dir)     \n",
    "\n",
    "            if PLOT_ME:\n",
    "                fig_name = f\"{roi}_{run}.png\"\n",
    "                \n",
    "                fig_folder = os.path.join(out_dir, cond)\n",
    "                if not os.path.exists(fig_folder):\n",
    "                    os.makedirs(fig_folder)                \n",
    "                \n",
    "                r, p = plot_corr(sub_df[[qV, qV_2]], qV_2, qV,\n",
    "                                 fig_title = f\"{roi}\\n{run}\", \n",
    "                                 out_path = os.path.join(fig_folder, fig_name), \n",
    "                                 x_name=fig_x_name, x_lim=fig_x_lim, \n",
    "                                 y_name=fig_y_name, y_lim=fig_y_lim)\n",
    "            else:\n",
    "                r, p = stats.pearsonr(sub_df[qV_2], sub_df[qV], alternative=\"two-sided\")\n",
    "                \n",
    "            corr_R[run][roi], corr_pval[run][roi] = r, p\n",
    "\n",
    "    ## save to files:\n",
    "    for corr_dict, typ in zip([corr_R, corr_pval], [\"R\", \"pVal\"]):\n",
    "        \n",
    "        file_name = f\"{typ}_cormat_{cond}.csv\"\n",
    "        mat = pd.DataFrame(corr_dict)\n",
    "        mat.to_csv(os.path.join(out_dir, file_name))"
   ]
  },
  {
   "cell_type": "markdown",
   "metadata": {},
   "source": [
    "## Plot heatmaps"
   ]
  },
  {
   "cell_type": "markdown",
   "metadata": {},
   "source": [
    "### for R values:"
   ]
  },
  {
   "cell_type": "code",
   "execution_count": 19,
   "metadata": {},
   "outputs": [
    {
     "data": {
      "text/plain": [
       "<Figure size 432x288 with 0 Axes>"
      ]
     },
     "metadata": {},
     "output_type": "display_data"
    }
   ],
   "source": [
    "for cond in cond_list:\n",
    "    \n",
    "    file_name = f\"R_cormat_{cond}.csv\"\n",
    "    file_path = os.path.join(out_dir, file_name)\n",
    "    mat = pd.read_csv(file_path, header=0, index_col=0)    \n",
    "    \n",
    "    fig_dir = os.path.join(out_dir, \"plot_with_Python (Heatmap)\")\n",
    "    if not os.path.exists(fig_dir):\n",
    "        os.makedirs(fig_dir)\n",
    "    fig_path = os.path.join(fig_dir, file_name.replace(\".csv\", \".png\"))\n",
    "    \n",
    "    plot_heatmap(mat, y_labs=roi_list, \n",
    "                 x_labs=[ R.replace(\"run-\", \"\") for R in run_list ], \n",
    "                 fig_title=cond, out_path=fig_path, \n",
    "                 cmap=\"coolwarm\", cmin=-1, cmax=1, cbar_title=\"R values\",\n",
    "                 fig_size=(FIG_WIDTH, FIG_HIGHT))"
   ]
  },
  {
   "cell_type": "markdown",
   "metadata": {},
   "source": [
    "### for p-values:"
   ]
  },
  {
   "cell_type": "code",
   "execution_count": 20,
   "metadata": {},
   "outputs": [
    {
     "data": {
      "text/plain": [
       "<Figure size 432x288 with 0 Axes>"
      ]
     },
     "metadata": {},
     "output_type": "display_data"
    }
   ],
   "source": [
    " for cond in cond_list:\n",
    "    \n",
    "    file_name = f\"pVal_cormat_{cond}.csv\"\n",
    "    file_path = os.path.join(out_dir, file_name)\n",
    "    mat = pd.read_csv(file_path, header=0, index_col=0)  \n",
    "    \n",
    "    fig_dir = os.path.join(out_dir, \"plot_with_Python (Heatmap)\")\n",
    "    if not os.path.exists(fig_dir):\n",
    "        os.makedirs(fig_dir)\n",
    "    fig_path = os.path.join(fig_dir, file_name.replace(\".csv\", \".png\"))   \n",
    "    \n",
    "    plot_heatmap(mat, y_labs=roi_list, \n",
    "                 x_labs=[ R.replace(\"run-\", \"\") for R in run_list ], \n",
    "                 fig_title=cond, out_path=fig_path, \n",
    "                 cmap=\"hot\", cmin=0, cmax=1, norm=LogNorm(), cbar_title=\"p-values\",\n",
    "                 fig_size=(FIG_WIDTH, FIG_HIGHT))"
   ]
  },
  {
   "cell_type": "markdown",
   "metadata": {},
   "source": [
    "## Plot specified correlation"
   ]
  },
  {
   "cell_type": "code",
   "execution_count": 21,
   "metadata": {},
   "outputs": [
    {
     "name": "stdout",
     "output_type": "stream",
     "text": [
      ".\\ROI_analysis\\runs_MNI_3ord_v6_REML\\Corr_with_behav\\18_ROIs\\plot_with_Python (Regression)\\Snd_Hippocampus_run-04.jpg\n"
     ]
    },
    {
     "data": {
      "text/plain": [
       "(0.39391781730882425, 0.01585188084534749)"
      ]
     },
     "execution_count": 21,
     "metadata": {},
     "output_type": "execute_result"
    },
    {
     "data": {
      "text/plain": [
       "<Figure size 2500x2500 with 0 Axes>"
      ]
     },
     "metadata": {},
     "output_type": "display_data"
    },
    {
     "data": {
      "image/png": "[encoded data removed]",
      "text/plain": [
       "<Figure size 360x360 with 3 Axes>"
      ]
     },
     "metadata": {},
     "output_type": "display_data"
    }
   ],
   "source": [
    "# qV = [\"Y\", \"Similarity\", \"Score\"][0]\n",
    "# qV_2 = [\"Y\", \"Similarity\", \"Score\"][2]\n",
    "\n",
    "cond = [\"All\", \"Fst\", \"Snd\", \"Trd\"][2]\n",
    "roi = [\"High-Vis\", \"Hippocampus\"][1]\n",
    "run = \"run-04\"\n",
    "\n",
    "sub_df = data_table.query(('ROI == @roi & Cond == @cond & Run == @run'))\n",
    "fig_name = f\"{cond}_{roi}_{run}.jpg\"\n",
    "\n",
    "if remove_outlier:\n",
    "    sub_df = sub_df[remove_outlier_indices(sub_df, qV)]\n",
    "    sub_df = sub_df[remove_outlier_indices(sub_df, qV_2)]\n",
    "    fig_name = f\"{cond}_{roi}_{run} (outlier removed).jpg\"\n",
    "    \n",
    "fig_dir = os.path.join(out_dir, \"plot_with_Python (Regression)\")\n",
    "if not os.path.exists(fig_dir):\n",
    "    os.makedirs(fig_dir)\n",
    "    \n",
    "fig_save = os.path.join(fig_dir, fig_name)\n",
    "print(fig_save)\n",
    "\n",
    "# r, p = \n",
    "plot_corr(sub_df, qV_2, qV, \n",
    "#           fig_title=fig_title, \n",
    "#           out_path=fig_save, \n",
    "          x_name=fig_x_name, x_lim=fig_x_lim, \n",
    "          y_name=fig_y_name, y_lim=fig_y_lim)"
   ]
  },
  {
   "cell_type": "markdown",
   "metadata": {},
   "source": [
    "## Print out (what did I do)"
   ]
  },
  {
   "cell_type": "code",
   "execution_count": 22,
   "metadata": {},
   "outputs": [
    {
     "name": "stdout",
     "output_type": "stream",
     "text": [
      "+++++ Done +++++\n",
      "\n",
      "+ Correlation   : Univariate Activity & Familiarity Score\n",
      "++ data_dir_1   : .\\ROI_analysis\\runs_MNI_3ord_v6_REML\\Corr_with_behav\\18_ROIs\n",
      "++ data_dir_2   : .\\Familiarity_test_performance\\subj_score_LN.tsv\n",
      "\n",
      "+ Name(Conds)   : ['Fst', 'Snd', 'Trd'] \n",
      "+ Name(Runs)    : ['run-02', 'run-03', 'run-04', 'run-05', 'run-06', 'run-07', 'run-08', 'run-09']\n",
      "+ Number(ROI)   : 18\n",
      "    \n",
      "+ Remove outlier: False\n",
      "+ Learner only  : False (threshold = 27)\n",
      "\n",
      "+ Figure size   : 12 x 12\n",
      "+ Output at     : \".\\ROI_analysis\\runs_MNI_3ord_v6_REML\\Corr_with_behav\\18_ROIs\"  \n",
      "\n"
     ]
    }
   ],
   "source": [
    "if TO_DO == \"PyMVPA\":\n",
    "    do_what = \"Pattern Similarity & Familiarity Score\"\n",
    "    folder_1 = f\"...\\\\odd_even_trials_similarity\\\\{ap_MVPA}\"\n",
    "    folder_2 = f\".\\\\Familiarity_test_performance\\\\{behav_fn}\"\n",
    "    \n",
    "elif TO_DO == \"UnivariateActivity\":\n",
    "    do_what = \"Univariate Activity & Familiarity Score\"\n",
    "#     folder_1 = f\".\\\\Group_analysis\\\\ROIstats\\\\{ap_UniV}\\\\Corr_with_behav\"\n",
    "    folder_1 = out_dir\n",
    "    folder_2 = f\".\\\\Familiarity_test_performance\\\\{behav_fn}\"\n",
    "    \n",
    "elif TO_DO == \"both\":\n",
    "    do_what = \"Pattern Similarity & Univariate Activity\"\n",
    "    folder_1 = f\"...\\\\odd_even_trials_similarity\\\\{ap_MVPA}\\\\*_{stim_type}_{run_groupby}.csv\"\n",
    "    folder_2 = out_dir\n",
    "#     folder_2 = f\".\\\\Group_analysis\\\\ROIstats\\\\{ap_UniV}\\\\Corr_with_behav\"\n",
    "\n",
    "print(f'''+++++ Done +++++\n",
    "\n",
    "+ Correlation   : {do_what}\n",
    "++ data_dir_1   : {folder_1}\n",
    "++ data_dir_2   : {folder_2}\n",
    "\n",
    "+ Name(Conds)   : {cond_list} \n",
    "+ Name(Runs)    : {run_list}\n",
    "+ Number(ROI)   : {len(roi_list)}\n",
    "    \n",
    "+ Remove outlier: {[\"False\", \"True\"][remove_outlier]}\n",
    "+ Learner only  : {[\"False\", \"True\"][learner_only]} (threshold = {threshold})\n",
    "\n",
    "+ Figure size   : {FIG_WIDTH} x {FIG_HIGHT}\n",
    "+ Output at     : \"{out_dir}\"  \n",
    "''')"
   ]
  },
  {
   "cell_type": "markdown",
   "metadata": {},
   "source": [
    "## Additional try\n",
    "### 1) Correlate MEAN Intensity (across runs) with behav score:"
   ]
  },
  {
   "cell_type": "code",
   "execution_count": 23,
   "metadata": {},
   "outputs": [],
   "source": [
    "## Heatmap (make dataframe):\n",
    "\n",
    "new_df_r, new_df_p = {}, {}\n",
    "new_cond_list = [\"Fst\", \"Snd\", \"Trd\"]\n",
    "# new_cond_list = [\"Fst\", \"Snd\", \"Trd\", \"All\"]\n",
    "\n",
    "for cond in new_cond_list:\n",
    "    new_df_r[cond], new_df_p[cond] = {}, {}\n",
    "    \n",
    "    for roi in roi_list:\n",
    "        subj_run_mean = (data_table\n",
    "                         .query(('ROI == @roi & Cond == @cond'))\n",
    "                         .pivot(index=\"Subj\", columns=\"Run\", values=\"Y\")\n",
    "                         .mean(axis=1))\n",
    "        \n",
    "        temp_df = (pd.DataFrame(subj_run_mean, columns=[\"Y\"])\n",
    "                   .merge(behav_table, how=\"left\", on=\"Subj\"))\n",
    "        \n",
    "        r, p = stats.pearsonr(temp_df[\"Score\"], temp_df[\"Y\"], alternative=\"two-sided\")\n",
    "        new_df_r[cond][roi], new_df_p[cond][roi] = r, p"
   ]
  },
  {
   "cell_type": "code",
   "execution_count": 24,
   "metadata": {},
   "outputs": [
    {
     "data": {
      "text/plain": [
       "<Figure size 432x288 with 0 Axes>"
      ]
     },
     "metadata": {},
     "output_type": "display_data"
    }
   ],
   "source": [
    "## Heatmap (R values):\n",
    "\n",
    "fig_name = f\"R ({len(roi_list)}).png\"\n",
    "\n",
    "fig_dir = os.path.join(out_dir, \"plot_with_Python (Heatmap, mean across runs)\")\n",
    "if not os.path.exists(fig_dir):\n",
    "    os.makedirs(fig_dir)\n",
    "\n",
    "plot_heatmap(pd.DataFrame(new_df_r), \n",
    "             y_labs=roi_list, \n",
    "             x_labs=new_cond_list, \n",
    "#              fig_title=\"MEAN across runs\", \n",
    "             out_path=os.path.join(fig_dir, fig_name), \n",
    "             cmap=\"coolwarm\", cmin=-1, cmax=1, cbar_title=\"R values\",\n",
    "             fig_size=(6, 12))"
   ]
  },
  {
   "cell_type": "code",
   "execution_count": 25,
   "metadata": {},
   "outputs": [
    {
     "data": {
      "text/plain": [
       "<Figure size 432x288 with 0 Axes>"
      ]
     },
     "metadata": {},
     "output_type": "display_data"
    }
   ],
   "source": [
    "## Heatmap (p values):\n",
    "\n",
    "fig_name = f\"pVal ({len(roi_list)}).png\"\n",
    "\n",
    "fig_dir = os.path.join(out_dir, \"plot_with_Python (Heatmap, mean across runs)\")\n",
    "if not os.path.exists(fig_dir):\n",
    "    os.makedirs(fig_dir)\n",
    "\n",
    "plot_heatmap(pd.DataFrame(new_df_p), \n",
    "             y_labs=roi_list, \n",
    "             x_labs=new_cond_list, \n",
    "#              fig_title=\"MEAN across runs\", \n",
    "             out_path=os.path.join(fig_dir, fig_name), \n",
    "             cmap=\"hot\", cmin=0, cmax=1, norm=LogNorm(), cbar_title=\"p-values\",\n",
    "             fig_size=(6, 12))"
   ]
  },
  {
   "cell_type": "code",
   "execution_count": 26,
   "metadata": {},
   "outputs": [
    {
     "name": "stdout",
     "output_type": "stream",
     "text": [
      "Snd_Hippocampus_run-MEAN.jpg\n"
     ]
    },
    {
     "data": {
      "text/plain": [
       "(0.0030636372668501966, 0.9856422189339137)"
      ]
     },
     "execution_count": 26,
     "metadata": {},
     "output_type": "execute_result"
    },
    {
     "data": {
      "text/plain": [
       "<Figure size 2500x2500 with 0 Axes>"
      ]
     },
     "metadata": {},
     "output_type": "display_data"
    },
    {
     "data": {
      "image/png": "[encoded data removed]",
      "text/plain": [
       "<Figure size 360x360 with 3 Axes>"
      ]
     },
     "metadata": {},
     "output_type": "display_data"
    }
   ],
   "source": [
    "## Regression plot:\n",
    "\n",
    "cond = [\"Fst\", \"Snd\", \"Trd\", \"All\"][1]\n",
    "roi = [\"High-Vis\", \"Hippocampus\"][1]\n",
    "\n",
    "subj_mean_Y = (data_table\n",
    "               .query(('ROI == @roi & Cond == @cond'))\n",
    "               .pivot(index=\"Subj\", columns=\"Run\", values=\"Y\")\n",
    "               .mean(axis=1))\n",
    "\n",
    "new_df = (pd.DataFrame(subj_mean_Y, columns=[\"Y\"])\n",
    "          .merge(behav_table, how=\"left\", on=\"Subj\"))\n",
    "new_df[\"Score\"] = new_df[\"Score\"] *60\n",
    "\n",
    "fig_name = f\"{cond}_{roi}_run-MEAN.jpg\"\n",
    "print(fig_name)\n",
    "\n",
    "fig_dir = os.path.join(out_dir, \"plot_with_Python (Regression)\")\n",
    "fig_save = os.path.join(fig_dir, fig_name)\n",
    "\n",
    "# r, p = \n",
    "plot_corr(new_df, \"Score\", \"Y\",\n",
    "#           fig_title=fig_title, \n",
    "#           out_path=fig_save, \n",
    "          x_name=fig_x_name, x_lim=fig_x_lim, \n",
    "          y_name=fig_y_name, y_lim=fig_y_lim)"
   ]
  },
  {
   "cell_type": "markdown",
   "metadata": {},
   "source": [
    "### 2) Correlate Intensity DIFF (between runs OR conds) with behav score:"
   ]
  },
  {
   "cell_type": "code",
   "execution_count": 27,
   "metadata": {},
   "outputs": [],
   "source": [
    "# ## between runs:\n",
    "\n",
    "# cond = [\"All\", \"Fst\", \"Snd\", \"Trd\"][1]\n",
    "# roi = [\"High-Vis\", \"Hippocampus\"][1]\n",
    "# runs_compare = [\"run-02\", \"run-03\", \"run-04\"] ###\n",
    "\n",
    "# sub_df = data_table.query(('ROI == @roi & '+\n",
    "#                            'Cond == @cond & '+\n",
    "#                            'Run in @runs_compare'))\n",
    "\n",
    "# # sub_df = sub_df[remove_outlier_indices(sub_df, \"Y\")]\n",
    "# # sub_df = sub_df[remove_outlier_indices(sub_df, \"Score\")]\n",
    "\n",
    "# runs_2comp_Y = (sub_df[[\"Subj\", \"Run\", \"Y\"]]\n",
    "#                 .pivot(index=\"Subj\", columns=\"Run\", values= \"Y\"))\n",
    "\n",
    "# sub_df = (pd.DataFrame({\"Y_Run_4-2\": runs_2comp_Y[\"run-04\"] - runs_2comp_Y[\"run-02\"], \n",
    "#                         \"Y_Run_4-3\": runs_2comp_Y[\"run-04\"] - runs_2comp_Y[\"run-03\"]})\n",
    "#           .merge(behav_table[[\"Subj\", \"Score\"]], on=\"Subj\")\n",
    "#           .dropna())\n",
    "\n",
    "# sub_df[\"Score\"] = sub_df[\"Score\"] *60"
   ]
  },
  {
   "cell_type": "code",
   "execution_count": 28,
   "metadata": {},
   "outputs": [],
   "source": [
    "# plot_corr(sub_df, X=\"Score\", Y=[\"Y_Run_4-2\", \"Y_Run_4-3\"][0],\n",
    "#           fig_title=\"{:}\\n{:}\\n{:}\".format(roi, cond, qV), \n",
    "#           # out_path=os.path.join(), \n",
    "#           x_name=\"Familiarity score\", x_lim=(0, 60), \n",
    "#           y_name=\"Intensity change (×100)\")"
   ]
  },
  {
   "cell_type": "code",
   "execution_count": 29,
   "metadata": {},
   "outputs": [],
   "source": [
    "## between conds:\n",
    "\n",
    "cond_comp = [\"Fst\", \"Trd\"]\n",
    "qV = \"Fst_vs_Trd\"\n",
    "\n",
    "roi = [\"High-Vis\", \"Hippocampus\"][1]\n",
    "run = \"run-05\"\n",
    "\n",
    "sub_df = data_table.query(('ROI == @roi & '+\n",
    "                           'Cond in @cond_comp & '+\n",
    "                           'Run == @run'))\n",
    "\n",
    "# sub_df = sub_df[remove_outlier_indices(sub_df, \"Y\")]\n",
    "# sub_df = sub_df[remove_outlier_indices(sub_df, \"Score\")]\n",
    "\n",
    "conds_2comp_Y = (sub_df[[\"Subj\", \"Cond\", \"Y\"]]\n",
    "                .pivot(index=\"Subj\", columns=\"Cond\", values= \"Y\"))\n",
    "\n",
    "sub_df = (pd.DataFrame({\"Fst_vs_Trd\": conds_2comp_Y[\"Fst\"] - conds_2comp_Y[\"Trd\"]})\n",
    "          .merge(behav_table[[\"Subj\", \"Score\"]], on=\"Subj\")\n",
    "          .dropna())\n",
    "\n",
    "sub_df[\"Score\"] = sub_df[\"Score\"] *60"
   ]
  },
  {
   "cell_type": "code",
   "execution_count": 30,
   "metadata": {},
   "outputs": [
    {
     "data": {
      "text/plain": [
       "(-0.13754170694027507, 0.41691385638781386)"
      ]
     },
     "execution_count": 30,
     "metadata": {},
     "output_type": "execute_result"
    },
    {
     "data": {
      "text/plain": [
       "<Figure size 2500x2500 with 0 Axes>"
      ]
     },
     "metadata": {},
     "output_type": "display_data"
    },
    {
     "data": {
      "image/png": "[encoded data removed]",
      "text/plain": [
       "<Figure size 360x360 with 3 Axes>"
      ]
     },
     "metadata": {},
     "output_type": "display_data"
    }
   ],
   "source": [
    "plot_corr(sub_df, X=\"Score\", Y=\"Fst_vs_Trd\",\n",
    "          fig_title=\"{:}\\n{:}\\n{:}\".format(roi, run, qV), \n",
    "          # out_path=os.path.join(), \n",
    "          x_name=\"Familiarity score\", x_lim=(0, 60), \n",
    "          y_name=\"Compare Intensity  (×100)\")"
   ]
  },
  {
   "cell_type": "markdown",
   "metadata": {},
   "source": [
    "### #) Temp: Print out jigg_task performance "
   ]
  },
  {
   "cell_type": "code",
   "execution_count": 31,
   "metadata": {},
   "outputs": [],
   "source": [
    "# ## per-subject & per-run & overall mean hit rate\n",
    "\n",
    "# top_dir = \"..\" # os.path.join(\"\")\n",
    "# vsl_task_dir = os.path.join(top_dir, \"my_VSL\")\n",
    "# log_summ_file = os.path.join(vsl_task_dir, \"logs\", \"jigg_task_perf_all.xlsx\")\n",
    "\n",
    "# subjList = list(pd.read_csv('subjList.txt', header=None)[0])\n",
    "# subj_list = [ \"{:03d}\".format(int(subj.replace(\"sub-\", \"\"))) for subj in subjList ]\n",
    "\n",
    "# run_list = [ \"RUN_{:}\".format(x) for x in range(1, 11) ]\n",
    "\n",
    "# log_summ = {}\n",
    "# HitRate_perSubj_acrossRuns = {}\n",
    "# HitRate_perRun_acrossSubjs = {}\n",
    "\n",
    "# for subj in subj_list:\n",
    "#     log_summ[subj] = pd.read_excel(log_summ_file, sheet_name=subj, \n",
    "#                                    engine=\"openpyxl\", index_col=0)\n",
    "#     HitRate_perSubj_acrossRuns[subj] = log_summ[subj].mean()[\"Hit_mean\"]\n",
    "\n",
    "# for run in run_list:\n",
    "#     HitRate_list = [ log_summ[subj].T[run][\"Hit_mean\"] for subj in subj_list ]\n",
    "#     HitRate_perRun_acrossSubjs[run] = np.array(HitRate_list).mean()\n",
    "\n",
    "# HitRate_perRun_list = list(HitRate_perRun_acrossSubjs.values())\n",
    "# HitRate_perSubj_list = list(HitRate_perSubj_acrossRuns.values())\n",
    "\n",
    "# print(\"# Overall mean hit rate:\", round(np.array(HitRate_perRun_list).mean(), 3))\n",
    "# print(\"# SD of per-run hit rate:\", round(np.array(HitRate_perRun_list).std(), 3))\n",
    "# print(\"# SD of per-subj hit rate:\", round(np.array(HitRate_perSubj_list).std(), 3))"
   ]
  }
 ],
 "metadata": {
  "kernelspec": {
   "display_name": "Python 3",
   "language": "python",
   "name": "python3"
  },
  "language_info": {
   "codemirror_mode": {
    "name": "ipython",
    "version": 3
   },
   "file_extension": ".py",
   "mimetype": "text/x-python",
   "name": "python",
   "nbconvert_exporter": "python",
   "pygments_lexer": "ipython3",
   "version": "3.8.3"
  }
 },
 "nbformat": 4,
 "nbformat_minor": 4
}
